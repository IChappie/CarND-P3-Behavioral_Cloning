{
 "cells": [
  {
   "cell_type": "code",
   "execution_count": null,
   "metadata": {
    "collapsed": true
   },
   "outputs": [],
   "source": [
    "# !/usr/bin/env python\n",
    "\"\"\"\n",
    "Steering angle predictioin model\n",
    "\"\"\"\n",
    "import os\n",
    "import argparse\n",
    "import json\n",
    "from keras.model import Sequential\n",
    "from keras.layers import Dense, Dropout, Flatten, Lambda, ELU\n",
    "from keras.layers.convolutional import Convolution2D\n",
    "\n",
    "from server import client_generator"
   ]
  },
  {
   "cell_type": "code",
   "execution_count": null,
   "metadata": {
    "collapsed": true
   },
   "outputs": [],
   "source": [
    "def gen(hwm, host, port):\n",
    "    for tup in client_generator(hwm=hwm, host=host, port=port):\n",
    "        X, Y, _ = tup\n",
    "        Y = Y[:, -1]\n",
    "        if X.shape[1] == 1: # no temporal context\n",
    "            X = X[:, -1]\n",
    "        yield X, Y"
   ]
  },
  {
   "cell_type": "code",
   "execution_count": 1,
   "metadata": {
    "collapsed": true
   },
   "outputs": [],
   "source": [
    "def get_model(time_len=1):\n",
    "    ch, row, col = 3, 160, 320 #camera format\n",
    "    \n",
    "    model = Sequential()\n",
    "    model.add(Lambda(lambda x: x/127.5 - 1., input_shape=(ch, row, col), output_shape=(ch, row, col)))\n",
    "    model.add(Convolution2D(16, 8, 8, subsample=(4, 4), border_mode = \"same\"))\n",
    "    model.add(ELU())\n",
    "    model.add(Convolution2D(32, 5, 5, subsample=(2, 2), border_mode = \"same\"))\n",
    "    model.add(Convolution2D(64, 5, 5, subsample=(2, 2), border_mode = \"same\"))\n",
    "    model.add(Flatten())\n",
    "    model.add(Dropout(.2))\n",
    "    model.add(ELU())\n",
    "    model.add(Dense(512))\n",
    "    model.add(Dropout(0.5))\n",
    "    model.add(ELU())\n",
    "    model.add(Dense(1))\n",
    "    \n",
    "    model.compile(optimizer=\"adam\", loss=\"mse\")\n",
    "    \n",
    "    return model"
   ]
  },
  {
   "cell_type": "code",
   "execution_count": null,
   "metadata": {
    "collapsed": true
   },
   "outputs": [],
   "source": [
    "if __name__ == \"__main__\":\n",
    "    parser = argparse.ArgumentParser(description='Steering angle model trainer')\n",
    "    parser.add_argument('--host', type=str, default=\"localhost\", help='Data server ip address.')\n",
    "    parser.add_argument('--port', type=int, default=5557, help='Port of server.')\n",
    "    parser.add_argument('--val_port', type=int, default=5556, help='Port of server for validation dataset.')\n",
    "    parser.add_argument('--batch', type=int, default=64, help='Batch size.')\n",
    "    parser.add_argument('--epoch', type=int, default=200, help='Number of epochs.')\n",
    "    parser.add_argument('--epochsize', type=int, default=10000, help='How many frames per epoch.')\n",
    "    parser.add_argument('--skipvalidate', dest='skipvalidate', action='store_true', help='Multiple path output.')\n",
    "    parser.set_defaults(skipvalidate=False)\n",
    "    parser.set_defaults(loadweights=False)\n",
    "    args = parser.parse_args()\n",
    "    \n",
    "    model = get_model()\n",
    "    model.fit_generator(\n",
    "        gen(20, args.host, port=args.port),\n",
    "        samples_per_epoch=10000,\n",
    "        nb_epoch=args.epoch,\n",
    "        validation_data=gen(20, args.host, port=args.val_port),\n",
    "        nb_val_samples=1000 \n",
    "    )\n",
    "    print(\"Saving model weights and configuration file.\")\n",
    "    \n",
    "    if not os.path.exists(\"./outputs/steering_model\"):\n",
    "        os.makedirs(\"./outputs/steering_model\")\n",
    "    \n",
    "    model.save_weights(\"./outputs/steering_model/steering_angle.keras\", True)\n",
    "    with open('./outputs/steering_model/steering_angle.json', 'w') as outfile:\n",
    "        json.dump(model.to_json(), outfile)"
   ]
  }
 ],
 "metadata": {
  "anaconda-cloud": {},
  "kernelspec": {
   "display_name": "Python [CarND]",
   "language": "python",
   "name": "Python [CarND]"
  },
  "language_info": {
   "codemirror_mode": {
    "name": "ipython",
    "version": 3
   },
   "file_extension": ".py",
   "mimetype": "text/x-python",
   "name": "python",
   "nbconvert_exporter": "python",
   "pygments_lexer": "ipython3",
   "version": "3.5.2"
  }
 },
 "nbformat": 4,
 "nbformat_minor": 0
}
