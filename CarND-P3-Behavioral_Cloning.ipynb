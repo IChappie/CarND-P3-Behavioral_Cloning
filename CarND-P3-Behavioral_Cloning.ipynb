{
 "cells": [
  {
   "cell_type": "code",
   "execution_count": 1,
   "metadata": {
    "collapsed": false
   },
   "outputs": [
    {
     "name": "stderr",
     "output_type": "stream",
     "text": [
      "Using TensorFlow backend.\n"
     ]
    }
   ],
   "source": [
    "# Import the libraries required.\n",
    "import pickle\n",
    "import tensorflow as tf\n",
    "import numpy as np\n",
    "from keras.models import Sequential\n",
    "from keras.layers import Input, Flatten, Dense, Lambda, BatchNormalization, Convolution2D, Dropout, Cropping2D\n",
    "from keras.models import Model\n",
    "import json\n",
    "import time\n",
    "import cv2\n",
    "import random\n"
   ]
  },
  {
   "cell_type": "code",
   "execution_count": 2,
   "metadata": {
    "collapsed": false
   },
   "outputs": [
    {
     "name": "stdout",
     "output_type": "stream",
     "text": [
      "Training number is:\n",
      "24374\n"
     ]
    }
   ],
   "source": [
    "# create a generator to load data\n",
    "import os\n",
    "import csv\n",
    "\"\"\"\n",
    "filePath = []\n",
    "file_round_threeloop = 'C:\\\\Users\\\\Elvin\\\\Desktop\\\\self-driving car\\\\CarND-Behavioral-Cloning-P3-master\\\\training_data\\\\roadfirst\\\\driving_log.csv'\n",
    "file_round_CountClockwise = 'C:\\\\Users\\\\Elvin\\\\Desktop\\\\self-driving car\\\\CarND-Behavioral-Cloning-P3-master\\\\training_data\\\\roundCounter-Clockwise\\\\driving_log.csv'\n",
    "file_roundCorner = 'C:\\\\Users\\\\Elvin\\\\Desktop\\\\self-driving car\\\\CarND-Behavioral-Cloning-P3-master\\\\training_data\\\\roundCorner\\\\driving_log.csv'\n",
    "file_roundRecovery = 'C:\\\\Users\\\\Elvin\\\\Desktop\\\\self-driving car\\\\CarND-Behavioral-Cloning-P3-master\\\\training_data\\\\roundRecovery\\\\driving_log.csv'\n",
    "file_classdata = 'C:\\\\Users\\\\Elvin\\\\Desktop\\\\self-driving car\\\\CarND-Behavioral-Cloning-P3-master\\\\class_data\\\\driving_log.csv'\n",
    "#filePath = [file_round_threeloop, file_round_CountClockwise, file_roundCorner, file_roundRecovery]\n",
    "file_Udacitydata = 'C:\\\\Users\\\\Elvin\\\\Desktop\\\\self-driving car\\\\CarND-Behavioral-Cloning-P3-master\\\\data\\\\Udacity_data\\\\driving_log.csv'\n",
    "file_dirtroaddata = 'C:\\\\Users\\\\Elvin\\\\Desktop\\\\self-driving car\\\\CarND-Behavioral-Cloning-P3-master\\\\data\\\\Dirtroad_data\\\\driving_log.csv'\n",
    "fillPath = [file_Udacitydata, file_dirtroaddata]\n",
    "\"\"\"\n",
    "samples = []\n",
    "\n",
    "\"\"\"\n",
    "# Using Multiple Cameras\n",
    "for filename in filePath:\n",
    "    with open(filename) as csvfile:\n",
    "        reader = csv.reader(csvfile)\n",
    "        for line in reader:\n",
    "            if(1):#cv2.imread(line[0]) is not None):\n",
    "                samples.append(line)\n",
    "\n",
    "\"\"\"\n",
    "# Using multiple Cameras \n",
    "with open('C:\\\\Users\\\\Elvin\\\\Desktop\\\\self-driving car\\\\CarND-Behavioral-Cloning-P3-master\\\\data\\\\Udacity_data\\\\driving_log.csv') as csvfile:\n",
    "    reader = csv.reader(csvfile)\n",
    "    for line in reader:\n",
    "        if(1):#cv2.imread(line[0]) is not None):\n",
    "            samples.append(line)\n",
    "            \n",
    "\n",
    "with open('C:\\\\Users\\\\Elvin\\\\Desktop\\\\self-driving car\\\\CarND-Behavioral-Cloning-P3-master\\\\data\\\\Dirtroad_data\\\\driving_log.csv') as csvfile:\n",
    "    reader = csv.reader(csvfile)\n",
    "    for line in reader:\n",
    "        if(1):#cv2.imread(line[0]) is not None):\n",
    "            samples.append(line)\n",
    "\n",
    "with open('C:\\\\Users\\\\Elvin\\\\Desktop\\\\self-driving car\\\\CarND-Behavioral-Cloning-P3-master\\\\data\\\\loop_count_clockwise\\\\driving_log.csv') as csvfile:\n",
    "    reader = csv.reader(csvfile)\n",
    "    for line in reader:\n",
    "        if(1):#cv2.imread(line[0]) is not None):\n",
    "            samples.append(line)            \n",
    "\n",
    "samples =samples[1:]\n",
    "#samples =samples[1:1000]\n",
    "from sklearn.model_selection import train_test_split\n",
    "train_samples, validation_samples = train_test_split(samples, test_size=0.2)\n",
    "\n",
    "print(\"Training number is:\")\n",
    "print(len(samples))\n",
    "\n",
    "import cv2\n",
    "import numpy as np\n",
    "import sklearn\n",
    "from random import shuffle\n",
    "\n",
    "correction = 0.15\n",
    "\n",
    "def generator(samples, batch_size=128):\n",
    "    num_samples = len(samples)\n",
    "    \n",
    "    while 1: # Loop forever so the generator never terminates\n",
    "        shuffle(samples)\n",
    "        for offset in range(0, num_samples, batch_size):\n",
    "            batch_samples = samples[offset:offset+batch_size]\n",
    "\n",
    "            images = []\n",
    "            angles = []\n",
    "            for batch_sample in batch_samples:\n",
    "                if len(batch_sample[0])>50:\n",
    "                    name = (batch_sample[0],batch_sample[1],batch_sample[2])\n",
    "                else:\n",
    "                    name =['./data/Udacity_data/IMG/'+batch_sample[0].split('/')[-1], './data/Udacity_data/IMG/'+batch_sample[1].split('/')[-1],'./data/Udacity_data/IMG/'+batch_sample[2].split('/')[-1]]\n",
    "                    \n",
    "                #name = './class_data/IMG/'+batch_sample[0].split('/')[-1]\n",
    "                #name = batch_sample[0]\n",
    "                center_image = cv2.imread(name[0])\n",
    "                center_angle = float(batch_sample[3])\n",
    "                num = random.randint(0, 10)\n",
    "                if (1):# (center_angle>0.08 or center_angle<-0.08) or (num>8 and center_angle<0.08 and center_angle>-0.08):#not center_image is None: \n",
    "                    # decreased the frequency of steering angle in the range from -0.08 to 0.08\n",
    "                    center_image = cv2.cvtColor(center_image, cv2.COLOR_RGB2YUV)\n",
    "                    \n",
    "                    left_angle = center_angle + correction\n",
    "                    right_angle = center_angle - correction\n",
    "                    \n",
    "                    left_image = cv2.imread(name[1])\n",
    "                    left_image = cv2.cvtColor(left_image, cv2.COLOR_RGB2YUV)# Split input images into YUV planes\n",
    "                    right_image = cv2.imread(name[2])\n",
    "                    right_image = cv2.cvtColor(right_image, cv2.COLOR_RGB2YUV)\n",
    "                    \n",
    "                    images.extend((center_image,left_image,right_image))\n",
    "                    angles.extend((center_angle,left_angle, right_angle))\n",
    "                    images.extend((np.fliplr(center_image),np.fliplr(left_image),np.fliplr(right_image)))\n",
    "                    angles.extend((-center_angle,-left_angle, -right_angle))\n",
    "\n",
    "            # trim image to only see section with road\n",
    "            X_train = np.array(images)\n",
    "            y_train = np.array(angles)\n",
    "            yield sklearn.utils.shuffle(X_train, y_train)\n",
    "\n",
    "# compile and train the model using the generator function\n",
    "train_generator = generator(train_samples, batch_size=32)\n",
    "validation_generator = generator(validation_samples, batch_size=32)\n"
   ]
  },
  {
   "cell_type": "code",
   "execution_count": 3,
   "metadata": {
    "collapsed": true
   },
   "outputs": [],
   "source": [
    "# preprocessing\n",
    "def normalize(image):\n",
    "    return image / 255.0 - 0.5\n",
    "\n",
    "def resize(image):\n",
    "    import tensorflow as tf\n",
    "    return tf.image.resize_images(image, (66, 200))\n",
    "\n"
   ]
  },
  {
   "cell_type": "code",
   "execution_count": 4,
   "metadata": {
    "collapsed": false
   },
   "outputs": [],
   "source": [
    "# Create keras / tensorflow model\n",
    "def get_model(time_len=1):\n",
    "    \n",
    "    model = Sequential()\n",
    "    \n",
    "    ch, row, col = 3, 160, 320 #camera format\n",
    "    \n",
    "    # define Dropout parameters\n",
    "    drop_out_pc = 0.2\n",
    "    \n",
    "    # Crop the area above the horizon,resize and normalize the images\n",
    "    # Crop 50 pixels from top and 20 from bottom\n",
    "    model.add(Cropping2D(cropping = ((50, 20),(0,0)), input_shape = (row, col, ch)))\n",
    "    \n",
    "    # Lambda层，用以对上一层的输出施以任何Theano/Tensorflow表达式\n",
    "    # resize\n",
    "    model.add(Lambda(resize))\n",
    "    # normalize\n",
    "    #model.add(Lambda(lambda x: x/255. - .5, input_shape=(row, col, ch), output_shape=(row, col, ch)))\n",
    "    model.add(Lambda(normalize))\n",
    "    \n",
    "    # Five Convolution layers\n",
    "    model.add(Convolution2D(24, 5, 5, activation='relu', border_mode='valid', subsample=(2,2) , init = \"he_normal\"))\n",
    "    model.add(Convolution2D(36, 5, 5, activation='relu', border_mode='valid', subsample=(2,2)))\n",
    "    model.add(Convolution2D(48, 5, 5, activation='relu', border_mode='valid', subsample=(2,2)))\n",
    "    model.add(Convolution2D(64, 3, 3, activation='relu', border_mode='valid', subsample=(1,1)))\n",
    "    model.add(Convolution2D(64, 3, 3, activation='relu', border_mode='valid', subsample=(1,1)))\n",
    "    \n",
    "    # 将输入\"压平\"，即把多维的输入一维化，常用在从卷基层到全连接层的过渡，Flatten不影响batch的大小\n",
    "    model.add(Flatten())\n",
    "    \n",
    "    # Dense, Dropout\n",
    "    model.add(Dropout(drop_out_pc))\n",
    "    model.add(Dense(100, activation='relu'))\n",
    "    model.add(Dropout(drop_out_pc))\n",
    "    model.add(Dense(50, activation='relu'))\n",
    "    model.add(Dropout(drop_out_pc))\n",
    "    model.add(Dense(10, activation='relu'))\n",
    "    model.add(Dropout(drop_out_pc))\n",
    "    model.add(Dense(1, name='y_pred'))\n",
    "    \n",
    "    return model"
   ]
  },
  {
   "cell_type": "code",
   "execution_count": 5,
   "metadata": {
    "collapsed": false
   },
   "outputs": [],
   "source": [
    "def main(_):\n",
    "    \n",
    "    localtime = time.asctime( time.localtime(time.time()) )\n",
    "    print (\"本地时间为 :\", localtime)\n",
    "\n",
    "    model = get_model()\n",
    "    print(model.summary())\n",
    "    \n",
    "    #model.compile(optimizer='adam', loss='sparse_categorical_crossentropy', metrics=['accuracy'])\n",
    "    \n",
    "    model.compile(loss='mse', optimizer='adam')\n",
    "    \n",
    "    #train model\n",
    "    history_object = model.fit_generator(train_generator, samples_per_epoch= len(train_samples), validation_data=validation_generator, nb_val_samples=len(validation_samples), nb_epoch=15, verbose=2)\n",
    "    \n",
    "    # Save the model and weights\n",
    "    model_json = model.to_json()\n",
    "    with open(\"./model.json\", \"w\") as json_file:\n",
    "        json.dump(model_json, json_file)\n",
    "    model.save(\"./model.h5\")\n",
    "    print(\"Saved model to disk\")\n",
    "    \n",
    "    import matplotlib.pyplot as plt\n",
    "    \n",
    "    ### print the keys contained in history object\n",
    "    print(history_object.history['loss'])\n",
    "    \n",
    "    ### plot the training and validation loss for each epoch\n",
    "    plt.plot(history_object.history['loss'])\n",
    "    plt.plot(history_object.history['val_loss'])\n",
    "    plt.title('model mean squared error loss')\n",
    "    plt.ylabel('mean squared error loss')\n",
    "    plt.xlabel('epoch')\n",
    "    plt.legend(['training set', 'validation set'], loc='upper right')\n",
    "    plt.show()\n",
    "    cv2.waitKey(30)\n",
    "    plt.close()\n",
    "    \n",
    "    localtime = time.asctime( time.localtime(time.time()) )\n",
    "    print (\"本地时间为 :\", localtime)\n",
    "    "
   ]
  },
  {
   "cell_type": "code",
   "execution_count": 6,
   "metadata": {
    "collapsed": false
   },
   "outputs": [
    {
     "name": "stdout",
     "output_type": "stream",
     "text": [
      "本地时间为 : Thu Mar 16 11:30:40 2017\n",
      "____________________________________________________________________________________________________\n",
      "Layer (type)                     Output Shape          Param #     Connected to                     \n",
      "====================================================================================================\n",
      "cropping2d_1 (Cropping2D)        (None, 90, 320, 3)    0           cropping2d_input_1[0][0]         \n",
      "____________________________________________________________________________________________________\n",
      "lambda_1 (Lambda)                (None, 66, 200, 3)    0           cropping2d_1[0][0]               \n",
      "____________________________________________________________________________________________________\n",
      "lambda_2 (Lambda)                (None, 66, 200, 3)    0           lambda_1[0][0]                   \n",
      "____________________________________________________________________________________________________\n",
      "convolution2d_1 (Convolution2D)  (None, 31, 98, 24)    1824        lambda_2[0][0]                   \n",
      "____________________________________________________________________________________________________\n",
      "convolution2d_2 (Convolution2D)  (None, 14, 47, 36)    21636       convolution2d_1[0][0]            \n",
      "____________________________________________________________________________________________________\n",
      "convolution2d_3 (Convolution2D)  (None, 5, 22, 48)     43248       convolution2d_2[0][0]            \n",
      "____________________________________________________________________________________________________\n",
      "convolution2d_4 (Convolution2D)  (None, 3, 20, 64)     27712       convolution2d_3[0][0]            \n",
      "____________________________________________________________________________________________________\n",
      "convolution2d_5 (Convolution2D)  (None, 1, 18, 64)     36928       convolution2d_4[0][0]            \n",
      "____________________________________________________________________________________________________\n",
      "flatten_1 (Flatten)              (None, 1152)          0           convolution2d_5[0][0]            \n",
      "____________________________________________________________________________________________________\n",
      "dropout_1 (Dropout)              (None, 1152)          0           flatten_1[0][0]                  \n",
      "____________________________________________________________________________________________________\n",
      "dense_1 (Dense)                  (None, 100)           115300      dropout_1[0][0]                  \n",
      "____________________________________________________________________________________________________\n",
      "dropout_2 (Dropout)              (None, 100)           0           dense_1[0][0]                    \n",
      "____________________________________________________________________________________________________\n",
      "dense_2 (Dense)                  (None, 50)            5050        dropout_2[0][0]                  \n",
      "____________________________________________________________________________________________________\n",
      "dropout_3 (Dropout)              (None, 50)            0           dense_2[0][0]                    \n",
      "____________________________________________________________________________________________________\n",
      "dense_3 (Dense)                  (None, 10)            510         dropout_3[0][0]                  \n",
      "____________________________________________________________________________________________________\n",
      "dropout_4 (Dropout)              (None, 10)            0           dense_3[0][0]                    \n",
      "____________________________________________________________________________________________________\n",
      "y_pred (Dense)                   (None, 1)             11          dropout_4[0][0]                  \n",
      "====================================================================================================\n",
      "Total params: 252,219\n",
      "Trainable params: 252,219\n",
      "Non-trainable params: 0\n",
      "____________________________________________________________________________________________________\n",
      "None\n",
      "Epoch 1/15\n"
     ]
    },
    {
     "name": "stderr",
     "output_type": "stream",
     "text": [
      "C:\\Anaconda3\\envs\\CarND\\lib\\site-packages\\keras\\engine\\training.py:1573: UserWarning: Epoch comprised more than `samples_per_epoch` samples, which might affect learning results. Set `samples_per_epoch` correctly to avoid this warning.\n",
      "  warnings.warn('Epoch comprised more than '\n"
     ]
    },
    {
     "name": "stdout",
     "output_type": "stream",
     "text": [
      "236s - loss: 0.0831 - val_loss: 0.0355\n",
      "Epoch 2/15\n",
      "218s - loss: 0.0405 - val_loss: 0.0133\n",
      "Epoch 3/15\n",
      "213s - loss: 0.0352 - val_loss: 0.0108\n",
      "Epoch 4/15\n",
      "212s - loss: 0.0343 - val_loss: 0.0106\n",
      "Epoch 5/15\n",
      "214s - loss: 0.0298 - val_loss: 0.0160\n",
      "Epoch 6/15\n",
      "213s - loss: 0.0281 - val_loss: 0.0094\n",
      "Epoch 7/15\n",
      "212s - loss: 0.0296 - val_loss: 0.0102\n",
      "Epoch 8/15\n",
      "212s - loss: 0.0277 - val_loss: 0.0085\n",
      "Epoch 9/15\n",
      "212s - loss: 0.0282 - val_loss: 0.0122\n",
      "Epoch 10/15\n",
      "212s - loss: 0.0267 - val_loss: 0.0122\n",
      "Epoch 11/15\n",
      "212s - loss: 0.0253 - val_loss: 0.0090\n",
      "Epoch 12/15\n",
      "7011s - loss: 0.0251 - val_loss: 0.0083\n",
      "Epoch 13/15\n",
      "219s - loss: 0.0248 - val_loss: 0.0081\n",
      "Epoch 14/15\n",
      "211s - loss: 0.0247 - val_loss: 0.0128\n",
      "Epoch 15/15\n",
      "216s - loss: 0.0263 - val_loss: 0.0095\n",
      "Saved model to disk\n",
      "[0.083149409140734112, 0.040471325025838965, 0.035208210257776811, 0.034287617560110839, 0.029847500955357271, 0.028101446068923893, 0.029610410560945086, 0.027683521127876115, 0.028226243377681457, 0.026715800668313808, 0.025284398949759847, 0.025108655441467089, 0.024788764707159763, 0.024743856880448611, 0.026288589919168576]\n"
     ]
    },
    {
     "data": {
      "image/png": "[encoded data removed]",
      "text/plain": [
       "<matplotlib.figure.Figure at 0xf8a9be0>"
      ]
     },
     "metadata": {},
     "output_type": "display_data"
    },
    {
     "name": "stdout",
     "output_type": "stream",
     "text": [
      "本地时间为 : Thu Mar 16 14:17:53 2017\n"
     ]
    },
    {
     "ename": "SystemExit",
     "evalue": "",
     "output_type": "error",
     "traceback": [
      "An exception has occurred, use %tb to see the full traceback.\n",
      "\u001b[0;31mSystemExit\u001b[0m\n"
     ]
    },
    {
     "name": "stderr",
     "output_type": "stream",
     "text": [
      "C:\\Anaconda3\\envs\\CarND\\lib\\site-packages\\IPython\\core\\interactiveshell.py:2889: UserWarning: To exit: use 'exit', 'quit', or Ctrl-D.\n",
      "  warn(\"To exit: use 'exit', 'quit', or Ctrl-D.\", stacklevel=1)\n"
     ]
    }
   ],
   "source": [
    "if __name__ == '__main__':\n",
    "    tf.app.run()"
   ]
  },
  {
   "cell_type": "code",
   "execution_count": null,
   "metadata": {
    "collapsed": false
   },
   "outputs": [],
   "source": [
    "%tb"
   ]
  }
 ],
 "metadata": {
  "anaconda-cloud": {},
  "kernelspec": {
   "display_name": "Python [CarND]",
   "language": "python",
   "name": "Python [CarND]"
  },
  "language_info": {
   "codemirror_mode": {
    "name": "ipython",
    "version": 3
   },
   "file_extension": ".py",
   "mimetype": "text/x-python",
   "name": "python",
   "nbconvert_exporter": "python",
   "pygments_lexer": "ipython3",
   "version": "3.5.2"
  }
 },
 "nbformat": 4,
 "nbformat_minor": 0
}
